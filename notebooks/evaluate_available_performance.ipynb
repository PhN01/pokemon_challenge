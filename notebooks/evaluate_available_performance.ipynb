{
 "cells": [
  {
   "cell_type": "markdown",
   "metadata": {
    "collapsed": true,
    "pycharm": {
     "is_executing": false,
     "name": "#%% md\n"
    }
   },
   "source": [
    "# Exploring the grandmaster battles\n",
    "## 0. Environment and Data"
   ]
  },
  {
   "cell_type": "code",
   "execution_count": 2,
   "metadata": {
    "pycharm": {
     "is_executing": false,
     "name": "#%%\n"
    }
   },
   "outputs": [],
   "source": [
    "import pandas as pd\n",
    "import numpy as np"
   ]
  },
  {
   "cell_type": "code",
   "execution_count": 3,
   "metadata": {
    "pycharm": {
     "is_executing": false,
     "name": "#%%\n"
    }
   },
   "outputs": [
    {
     "data": {
      "text/html": [
       "<div>\n",
       "<style scoped>\n",
       "    .dataframe tbody tr th:only-of-type {\n",
       "        vertical-align: middle;\n",
       "    }\n",
       "\n",
       "    .dataframe tbody tr th {\n",
       "        vertical-align: top;\n",
       "    }\n",
       "\n",
       "    .dataframe thead th {\n",
       "        text-align: right;\n",
       "    }\n",
       "</style>\n",
       "<table border=\"1\" class=\"dataframe\">\n",
       "  <thead>\n",
       "    <tr style=\"text-align: right;\">\n",
       "      <th></th>\n",
       "      <th>Name_1</th>\n",
       "      <th>Level_1</th>\n",
       "      <th>Price_1</th>\n",
       "      <th>HP_1</th>\n",
       "      <th>Attack_1</th>\n",
       "      <th>Defense_1</th>\n",
       "      <th>Sp_Atk_1</th>\n",
       "      <th>Sp_Def_1</th>\n",
       "      <th>Speed_1</th>\n",
       "      <th>Legendary_1</th>\n",
       "      <th>...</th>\n",
       "      <th>res_krabby</th>\n",
       "      <th>res_mewtwo</th>\n",
       "      <th>res_raichu</th>\n",
       "      <th>res_venusaur</th>\n",
       "      <th>hppr_caterpie</th>\n",
       "      <th>hppr_golem</th>\n",
       "      <th>hppr_krabby</th>\n",
       "      <th>hppr_mewtwo</th>\n",
       "      <th>hppr_raichu</th>\n",
       "      <th>hppr_venusaur</th>\n",
       "    </tr>\n",
       "  </thead>\n",
       "  <tbody>\n",
       "    <tr>\n",
       "      <th>0</th>\n",
       "      <td>Abra</td>\n",
       "      <td>4</td>\n",
       "      <td>346</td>\n",
       "      <td>32</td>\n",
       "      <td>22</td>\n",
       "      <td>17</td>\n",
       "      <td>115</td>\n",
       "      <td>61</td>\n",
       "      <td>99</td>\n",
       "      <td>False</td>\n",
       "      <td>...</td>\n",
       "      <td>-179.35338</td>\n",
       "      <td>-684.09970</td>\n",
       "      <td>-222.42577</td>\n",
       "      <td>-173.653670</td>\n",
       "      <td>0.000000</td>\n",
       "      <td>0.0</td>\n",
       "      <td>0.0</td>\n",
       "      <td>0.0</td>\n",
       "      <td>0.0</td>\n",
       "      <td>0.0</td>\n",
       "    </tr>\n",
       "    <tr>\n",
       "      <th>1</th>\n",
       "      <td>Abra</td>\n",
       "      <td>26</td>\n",
       "      <td>614</td>\n",
       "      <td>80</td>\n",
       "      <td>38</td>\n",
       "      <td>26</td>\n",
       "      <td>197</td>\n",
       "      <td>103</td>\n",
       "      <td>170</td>\n",
       "      <td>False</td>\n",
       "      <td>...</td>\n",
       "      <td>-178.42506</td>\n",
       "      <td>-679.82420</td>\n",
       "      <td>-221.97230</td>\n",
       "      <td>-157.285130</td>\n",
       "      <td>0.887533</td>\n",
       "      <td>0.0</td>\n",
       "      <td>0.0</td>\n",
       "      <td>0.0</td>\n",
       "      <td>0.0</td>\n",
       "      <td>0.0</td>\n",
       "    </tr>\n",
       "    <tr>\n",
       "      <th>2</th>\n",
       "      <td>Abra</td>\n",
       "      <td>33</td>\n",
       "      <td>775</td>\n",
       "      <td>102</td>\n",
       "      <td>48</td>\n",
       "      <td>33</td>\n",
       "      <td>247</td>\n",
       "      <td>131</td>\n",
       "      <td>214</td>\n",
       "      <td>False</td>\n",
       "      <td>...</td>\n",
       "      <td>-155.15506</td>\n",
       "      <td>-679.60570</td>\n",
       "      <td>-219.45630</td>\n",
       "      <td>-99.916725</td>\n",
       "      <td>0.925494</td>\n",
       "      <td>0.0</td>\n",
       "      <td>0.0</td>\n",
       "      <td>0.0</td>\n",
       "      <td>0.0</td>\n",
       "      <td>0.0</td>\n",
       "    </tr>\n",
       "    <tr>\n",
       "      <th>3</th>\n",
       "      <td>Abra</td>\n",
       "      <td>45</td>\n",
       "      <td>937</td>\n",
       "      <td>129</td>\n",
       "      <td>56</td>\n",
       "      <td>39</td>\n",
       "      <td>298</td>\n",
       "      <td>158</td>\n",
       "      <td>257</td>\n",
       "      <td>False</td>\n",
       "      <td>...</td>\n",
       "      <td>-148.49413</td>\n",
       "      <td>-681.31476</td>\n",
       "      <td>-217.22935</td>\n",
       "      <td>-52.117302</td>\n",
       "      <td>0.972685</td>\n",
       "      <td>0.0</td>\n",
       "      <td>0.0</td>\n",
       "      <td>0.0</td>\n",
       "      <td>0.0</td>\n",
       "      <td>0.0</td>\n",
       "    </tr>\n",
       "    <tr>\n",
       "      <th>4</th>\n",
       "      <td>Abra</td>\n",
       "      <td>46</td>\n",
       "      <td>963</td>\n",
       "      <td>133</td>\n",
       "      <td>58</td>\n",
       "      <td>40</td>\n",
       "      <td>306</td>\n",
       "      <td>162</td>\n",
       "      <td>264</td>\n",
       "      <td>False</td>\n",
       "      <td>...</td>\n",
       "      <td>-147.37520</td>\n",
       "      <td>-681.24970</td>\n",
       "      <td>-216.34810</td>\n",
       "      <td>-36.872240</td>\n",
       "      <td>0.976467</td>\n",
       "      <td>0.0</td>\n",
       "      <td>0.0</td>\n",
       "      <td>0.0</td>\n",
       "      <td>0.0</td>\n",
       "      <td>0.0</td>\n",
       "    </tr>\n",
       "  </tbody>\n",
       "</table>\n",
       "<p>5 rows × 23 columns</p>\n",
       "</div>"
      ],
      "text/plain": [
       "  Name_1  Level_1  Price_1  HP_1  Attack_1  Defense_1  Sp_Atk_1  Sp_Def_1  \\\n",
       "0   Abra        4      346    32        22         17       115        61   \n",
       "1   Abra       26      614    80        38         26       197       103   \n",
       "2   Abra       33      775   102        48         33       247       131   \n",
       "3   Abra       45      937   129        56         39       298       158   \n",
       "4   Abra       46      963   133        58         40       306       162   \n",
       "\n",
       "   Speed_1  Legendary_1  ...  res_krabby  res_mewtwo  res_raichu  \\\n",
       "0       99        False  ...  -179.35338  -684.09970  -222.42577   \n",
       "1      170        False  ...  -178.42506  -679.82420  -221.97230   \n",
       "2      214        False  ...  -155.15506  -679.60570  -219.45630   \n",
       "3      257        False  ...  -148.49413  -681.31476  -217.22935   \n",
       "4      264        False  ...  -147.37520  -681.24970  -216.34810   \n",
       "\n",
       "   res_venusaur  hppr_caterpie  hppr_golem  hppr_krabby  hppr_mewtwo  \\\n",
       "0   -173.653670       0.000000         0.0          0.0          0.0   \n",
       "1   -157.285130       0.887533         0.0          0.0          0.0   \n",
       "2    -99.916725       0.925494         0.0          0.0          0.0   \n",
       "3    -52.117302       0.972685         0.0          0.0          0.0   \n",
       "4    -36.872240       0.976467         0.0          0.0          0.0   \n",
       "\n",
       "   hppr_raichu  hppr_venusaur  \n",
       "0          0.0            0.0  \n",
       "1          0.0            0.0  \n",
       "2          0.0            0.0  \n",
       "3          0.0            0.0  \n",
       "4          0.0            0.0  \n",
       "\n",
       "[5 rows x 23 columns]"
      ]
     },
     "execution_count": 3,
     "metadata": {},
     "output_type": "execute_result"
    }
   ],
   "source": [
    "performance = pd.read_csv(\"../data/final/performance.csv\", sep=\",\")\n",
    "performance.head()"
   ]
  },
  {
   "cell_type": "code",
   "execution_count": 4,
   "metadata": {
    "pycharm": {
     "is_executing": false,
     "name": "#%%\n"
    }
   },
   "outputs": [],
   "source": [
    "enemies = [\"caterpie\", \"golem\", \"krabby\", \"mewtwo\", \"raichu\", \"venusaur\"]"
   ]
  },
  {
   "cell_type": "markdown",
   "metadata": {
    "pycharm": {
     "is_executing": false,
     "name": "#%% md\n"
    }
   },
   "source": [
    "## 1. Minimum price to win battle"
   ]
  },
  {
   "cell_type": "code",
   "execution_count": 5,
   "metadata": {
    "pycharm": {
     "is_executing": false,
     "name": "#%%\n"
    }
   },
   "outputs": [
    {
     "name": "stdout",
     "output_type": "stream",
     "text": [
      "Minimum price to beat enemy caterpie: 267\n",
      "Minimum price to beat enemy golem: 935\n",
      "Minimum price to beat enemy krabby: 984\n",
      "Minimum price to beat enemy mewtwo: 2840\n",
      "Minimum price to beat enemy raichu: 760\n",
      "Minimum price to beat enemy venusaur: 539\n"
     ]
    }
   ],
   "source": [
    "for enemy in enemies:\n",
    "    min_price = np.min(performance.loc[performance[f\"res_{enemy}\"] > 0, \"Price_1\"])\n",
    "    print(f\"Minimum price to beat enemy {enemy}: {min_price}\")"
   ]
  },
  {
   "cell_type": "code",
   "execution_count": 13,
   "metadata": {
    "pycharm": {
     "is_executing": false,
     "name": "#%%\n"
    }
   },
   "outputs": [
    {
     "name": "stdout",
     "output_type": "stream",
     "text": [
      "Minimum price to beat enemy caterpie with HPPR>0.7: 288\n",
      "Total cost assuming minimal cost for mewtwo: 288\n",
      "Total score assuming loss for mewtwo: 0.5833333333333334\n",
      "Minimum price to beat enemy golem with HPPR>0.7: 1129\n",
      "Total cost assuming minimal cost for mewtwo: 1417\n",
      "Total score assuming loss for mewtwo: 0.5833333333333334\n",
      "Minimum price to beat enemy krabby with HPPR>0.7: 1387\n",
      "Total cost assuming minimal cost for mewtwo: 2804\n",
      "Total score assuming loss for mewtwo: 0.5833333333333334\n",
      "Minimum price to beat enemy mewtwo with HPPR>0.7: 3815\n",
      "Total cost assuming minimal cost for mewtwo: 3009\n",
      "Total score assuming loss for mewtwo: 0.5833333333333334\n",
      "Minimum price to beat enemy raichu with HPPR>0.7: 956\n",
      "Total cost assuming minimal cost for mewtwo: 3965\n",
      "Total score assuming loss for mewtwo: 0.5833333333333334\n",
      "Minimum price to beat enemy venusaur with HPPR>0.7: 719\n",
      "Total cost assuming minimal cost for mewtwo: 4684\n",
      "Total score assuming loss for mewtwo: 0.5833333333333334\n"
     ]
    }
   ],
   "source": [
    "total_cost = []\n",
    "target = 0.0\n",
    "for enemy in enemies:\n",
    "    min_price = np.min(\n",
    "        performance.loc[performance[f\"hppr_{enemy}\"] > target, \"Price_1\"]\n",
    "    )\n",
    "    if not enemy == \"mewtwo\":\n",
    "        total_cost.append(min_price)\n",
    "    else:\n",
    "        total_cost.append(205)\n",
    "print(f\"Minimum price to beat enemy {enemy} with HPPR>{target}: {min_price}\")\n",
    "print(f\"Total cost assuming minimal cost for mewtwo: {np.sum(total_cost)}\")\n",
    "print(f\"Total score assuming loss for mewtwo: {5*target/6}\")"
   ]
  },
  {
   "cell_type": "markdown",
   "metadata": {
    "pycharm": {
     "name": "#%% md\n"
    }
   },
   "source": [
    "## 2. Top 5 cheapest pokemons"
   ]
  },
  {
   "cell_type": "code",
   "execution_count": 6,
   "metadata": {
    "pycharm": {
     "is_executing": false,
     "name": "#%%\n"
    }
   },
   "outputs": [
    {
     "data": {
      "text/html": [
       "<div>\n",
       "<style scoped>\n",
       "    .dataframe tbody tr th:only-of-type {\n",
       "        vertical-align: middle;\n",
       "    }\n",
       "\n",
       "    .dataframe tbody tr th {\n",
       "        vertical-align: top;\n",
       "    }\n",
       "\n",
       "    .dataframe thead th {\n",
       "        text-align: right;\n",
       "    }\n",
       "</style>\n",
       "<table border=\"1\" class=\"dataframe\">\n",
       "  <thead>\n",
       "    <tr style=\"text-align: right;\">\n",
       "      <th></th>\n",
       "      <th>Name_1</th>\n",
       "      <th>Level_1</th>\n",
       "      <th>Price_1</th>\n",
       "      <th>HP_1</th>\n",
       "      <th>Attack_1</th>\n",
       "      <th>Defense_1</th>\n",
       "      <th>Sp_Atk_1</th>\n",
       "      <th>Sp_Def_1</th>\n",
       "      <th>Speed_1</th>\n",
       "      <th>Legendary_1</th>\n",
       "      <th>...</th>\n",
       "      <th>res_krabby</th>\n",
       "      <th>res_mewtwo</th>\n",
       "      <th>res_raichu</th>\n",
       "      <th>res_venusaur</th>\n",
       "      <th>hppr_caterpie</th>\n",
       "      <th>hppr_golem</th>\n",
       "      <th>hppr_krabby</th>\n",
       "      <th>hppr_mewtwo</th>\n",
       "      <th>hppr_raichu</th>\n",
       "      <th>hppr_venusaur</th>\n",
       "    </tr>\n",
       "  </thead>\n",
       "  <tbody>\n",
       "    <tr>\n",
       "      <th>610</th>\n",
       "      <td>Kakuna</td>\n",
       "      <td>1</td>\n",
       "      <td>205</td>\n",
       "      <td>45</td>\n",
       "      <td>25</td>\n",
       "      <td>50</td>\n",
       "      <td>25</td>\n",
       "      <td>25</td>\n",
       "      <td>35</td>\n",
       "      <td>False</td>\n",
       "      <td>...</td>\n",
       "      <td>-183.61305</td>\n",
       "      <td>-682.71277</td>\n",
       "      <td>-222.13140</td>\n",
       "      <td>-178.54169</td>\n",
       "      <td>0.000000</td>\n",
       "      <td>0.0</td>\n",
       "      <td>0.0</td>\n",
       "      <td>0.0</td>\n",
       "      <td>0.0</td>\n",
       "      <td>0.0</td>\n",
       "    </tr>\n",
       "    <tr>\n",
       "      <th>200</th>\n",
       "      <td>Diglett</td>\n",
       "      <td>1</td>\n",
       "      <td>265</td>\n",
       "      <td>10</td>\n",
       "      <td>55</td>\n",
       "      <td>25</td>\n",
       "      <td>35</td>\n",
       "      <td>45</td>\n",
       "      <td>95</td>\n",
       "      <td>False</td>\n",
       "      <td>...</td>\n",
       "      <td>-177.59180</td>\n",
       "      <td>-683.98440</td>\n",
       "      <td>-223.44510</td>\n",
       "      <td>-172.02145</td>\n",
       "      <td>0.000000</td>\n",
       "      <td>0.0</td>\n",
       "      <td>0.0</td>\n",
       "      <td>0.0</td>\n",
       "      <td>0.0</td>\n",
       "      <td>0.0</td>\n",
       "    </tr>\n",
       "    <tr>\n",
       "      <th>1380</th>\n",
       "      <td>Weedle</td>\n",
       "      <td>13</td>\n",
       "      <td>267</td>\n",
       "      <td>68</td>\n",
       "      <td>45</td>\n",
       "      <td>38</td>\n",
       "      <td>26</td>\n",
       "      <td>26</td>\n",
       "      <td>64</td>\n",
       "      <td>False</td>\n",
       "      <td>...</td>\n",
       "      <td>-180.65623</td>\n",
       "      <td>-682.30300</td>\n",
       "      <td>-226.09950</td>\n",
       "      <td>-175.43123</td>\n",
       "      <td>0.698987</td>\n",
       "      <td>0.0</td>\n",
       "      <td>0.0</td>\n",
       "      <td>0.0</td>\n",
       "      <td>0.0</td>\n",
       "      <td>0.0</td>\n",
       "    </tr>\n",
       "    <tr>\n",
       "      <th>1090</th>\n",
       "      <td>Rattata</td>\n",
       "      <td>4</td>\n",
       "      <td>274</td>\n",
       "      <td>37</td>\n",
       "      <td>59</td>\n",
       "      <td>37</td>\n",
       "      <td>27</td>\n",
       "      <td>37</td>\n",
       "      <td>77</td>\n",
       "      <td>False</td>\n",
       "      <td>...</td>\n",
       "      <td>-180.42030</td>\n",
       "      <td>-681.05960</td>\n",
       "      <td>-220.42024</td>\n",
       "      <td>-173.02437</td>\n",
       "      <td>0.000000</td>\n",
       "      <td>0.0</td>\n",
       "      <td>0.0</td>\n",
       "      <td>0.0</td>\n",
       "      <td>0.0</td>\n",
       "      <td>0.0</td>\n",
       "    </tr>\n",
       "    <tr>\n",
       "      <th>700</th>\n",
       "      <td>Magikarp</td>\n",
       "      <td>13</td>\n",
       "      <td>277</td>\n",
       "      <td>53</td>\n",
       "      <td>10</td>\n",
       "      <td>69</td>\n",
       "      <td>17</td>\n",
       "      <td>26</td>\n",
       "      <td>102</td>\n",
       "      <td>False</td>\n",
       "      <td>...</td>\n",
       "      <td>-175.40228</td>\n",
       "      <td>-683.31740</td>\n",
       "      <td>-221.79253</td>\n",
       "      <td>-171.73582</td>\n",
       "      <td>0.161749</td>\n",
       "      <td>0.0</td>\n",
       "      <td>0.0</td>\n",
       "      <td>0.0</td>\n",
       "      <td>0.0</td>\n",
       "      <td>0.0</td>\n",
       "    </tr>\n",
       "  </tbody>\n",
       "</table>\n",
       "<p>5 rows × 23 columns</p>\n",
       "</div>"
      ],
      "text/plain": [
       "        Name_1  Level_1  Price_1  HP_1  Attack_1  Defense_1  Sp_Atk_1  \\\n",
       "610     Kakuna        1      205    45        25         50        25   \n",
       "200    Diglett        1      265    10        55         25        35   \n",
       "1380    Weedle       13      267    68        45         38        26   \n",
       "1090   Rattata        4      274    37        59         37        27   \n",
       "700   Magikarp       13      277    53        10         69        17   \n",
       "\n",
       "      Sp_Def_1  Speed_1  Legendary_1  ...  res_krabby  res_mewtwo  res_raichu  \\\n",
       "610         25       35        False  ...  -183.61305  -682.71277  -222.13140   \n",
       "200         45       95        False  ...  -177.59180  -683.98440  -223.44510   \n",
       "1380        26       64        False  ...  -180.65623  -682.30300  -226.09950   \n",
       "1090        37       77        False  ...  -180.42030  -681.05960  -220.42024   \n",
       "700         26      102        False  ...  -175.40228  -683.31740  -221.79253   \n",
       "\n",
       "      res_venusaur  hppr_caterpie  hppr_golem  hppr_krabby  hppr_mewtwo  \\\n",
       "610     -178.54169       0.000000         0.0          0.0          0.0   \n",
       "200     -172.02145       0.000000         0.0          0.0          0.0   \n",
       "1380    -175.43123       0.698987         0.0          0.0          0.0   \n",
       "1090    -173.02437       0.000000         0.0          0.0          0.0   \n",
       "700     -171.73582       0.161749         0.0          0.0          0.0   \n",
       "\n",
       "      hppr_raichu  hppr_venusaur  \n",
       "610           0.0            0.0  \n",
       "200           0.0            0.0  \n",
       "1380          0.0            0.0  \n",
       "1090          0.0            0.0  \n",
       "700           0.0            0.0  \n",
       "\n",
       "[5 rows x 23 columns]"
      ]
     },
     "execution_count": 6,
     "metadata": {},
     "output_type": "execute_result"
    }
   ],
   "source": [
    "performance.sort_values(\"Price_1\").head()"
   ]
  },
  {
   "cell_type": "markdown",
   "metadata": {
    "pycharm": {
     "name": "#%% md\n"
    }
   },
   "source": [
    "A possible strategy could be to write off the Mewtwo battle, because it is too expensive to win.\n",
    "Instead, one could assign the cheapest possible pokemon to Mewtwo (which isn't like to win any\n",
    "battle anyways) and only optimize over the remaining 5 battles with a budget of \n",
    "3500 - {cost of cheapest pokemon}."
   ]
  },
  {
   "cell_type": "code",
   "execution_count": 7,
   "metadata": {
    "pycharm": {
     "is_executing": false,
     "name": "#%%\n"
    },
    "scrolled": true
   },
   "outputs": [
    {
     "data": {
      "text/html": [
       "<div>\n",
       "<style scoped>\n",
       "    .dataframe tbody tr th:only-of-type {\n",
       "        vertical-align: middle;\n",
       "    }\n",
       "\n",
       "    .dataframe tbody tr th {\n",
       "        vertical-align: top;\n",
       "    }\n",
       "\n",
       "    .dataframe thead th {\n",
       "        text-align: right;\n",
       "    }\n",
       "</style>\n",
       "<table border=\"1\" class=\"dataframe\">\n",
       "  <thead>\n",
       "    <tr style=\"text-align: right;\">\n",
       "      <th></th>\n",
       "      <th>Name_1</th>\n",
       "      <th>Level_1</th>\n",
       "      <th>Price_1</th>\n",
       "      <th>HP_1</th>\n",
       "      <th>Attack_1</th>\n",
       "      <th>Defense_1</th>\n",
       "      <th>Sp_Atk_1</th>\n",
       "      <th>Sp_Def_1</th>\n",
       "      <th>Speed_1</th>\n",
       "      <th>Legendary_1</th>\n",
       "      <th>...</th>\n",
       "      <th>res_krabby</th>\n",
       "      <th>res_mewtwo</th>\n",
       "      <th>res_raichu</th>\n",
       "      <th>res_venusaur</th>\n",
       "      <th>hppr_caterpie</th>\n",
       "      <th>hppr_golem</th>\n",
       "      <th>hppr_krabby</th>\n",
       "      <th>hppr_mewtwo</th>\n",
       "      <th>hppr_raichu</th>\n",
       "      <th>hppr_venusaur</th>\n",
       "    </tr>\n",
       "  </thead>\n",
       "  <tbody>\n",
       "    <tr>\n",
       "      <th>610</th>\n",
       "      <td>Kakuna</td>\n",
       "      <td>1</td>\n",
       "      <td>205</td>\n",
       "      <td>45</td>\n",
       "      <td>25</td>\n",
       "      <td>50</td>\n",
       "      <td>25</td>\n",
       "      <td>25</td>\n",
       "      <td>35</td>\n",
       "      <td>False</td>\n",
       "      <td>...</td>\n",
       "      <td>-183.61305</td>\n",
       "      <td>-682.71277</td>\n",
       "      <td>-222.1314</td>\n",
       "      <td>-178.54169</td>\n",
       "      <td>0.0</td>\n",
       "      <td>0.0</td>\n",
       "      <td>0.0</td>\n",
       "      <td>0.0</td>\n",
       "      <td>0.0</td>\n",
       "      <td>0.0</td>\n",
       "    </tr>\n",
       "  </tbody>\n",
       "</table>\n",
       "<p>1 rows × 23 columns</p>\n",
       "</div>"
      ],
      "text/plain": [
       "     Name_1  Level_1  Price_1  HP_1  Attack_1  Defense_1  Sp_Atk_1  Sp_Def_1  \\\n",
       "610  Kakuna        1      205    45        25         50        25        25   \n",
       "\n",
       "     Speed_1  Legendary_1  ...  res_krabby  res_mewtwo  res_raichu  \\\n",
       "610       35        False  ...  -183.61305  -682.71277   -222.1314   \n",
       "\n",
       "     res_venusaur  hppr_caterpie  hppr_golem  hppr_krabby  hppr_mewtwo  \\\n",
       "610    -178.54169            0.0         0.0          0.0          0.0   \n",
       "\n",
       "     hppr_raichu  hppr_venusaur  \n",
       "610          0.0            0.0  \n",
       "\n",
       "[1 rows x 23 columns]"
      ]
     },
     "execution_count": 7,
     "metadata": {},
     "output_type": "execute_result"
    }
   ],
   "source": [
    "performance.loc[performance.SelectedPokemonID == 611, :]"
   ]
  },
  {
   "cell_type": "code",
   "execution_count": null,
   "metadata": {
    "pycharm": {
     "name": "#%%\n"
    }
   },
   "outputs": [],
   "source": [
    "\n"
   ]
  }
 ],
 "metadata": {
  "kernelspec": {
   "display_name": "Python 3",
   "language": "python",
   "name": "python3"
  },
  "language_info": {
   "codemirror_mode": {
    "name": "ipython",
    "version": 3
   },
   "file_extension": ".py",
   "mimetype": "text/x-python",
   "name": "python",
   "nbconvert_exporter": "python",
   "pygments_lexer": "ipython3",
   "version": "3.7.4"
  },
  "pycharm": {
   "stem_cell": {
    "cell_type": "raw",
    "metadata": {
     "collapsed": false
    },
    "source": []
   }
  }
 },
 "nbformat": 4,
 "nbformat_minor": 1
}
