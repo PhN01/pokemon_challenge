{
 "cells": [
  {
   "cell_type": "markdown",
   "metadata": {},
   "source": [
    "# Pokemon selection\n",
    "\n",
    "After obtaining the predictions for the battle results of the available Pokemon against the enemy team, we will now select the optimal set of those Pokemon that performs best against the enemies using Mixed Linear Integer programming."
   ]
  },
  {
   "cell_type": "markdown",
   "metadata": {},
   "source": [
    "## 0. Environmental setup"
   ]
  },
  {
   "cell_type": "code",
   "execution_count": 5,
   "metadata": {},
   "outputs": [],
   "source": [
    "from __future__ import print_function\n",
    "import ortools\n",
    "import pandas as pd\n",
    "import numpy as np\n",
    "\n",
    "\n",
    "from ortools.linear_solver import pywraplp"
   ]
  },
  {
   "cell_type": "markdown",
   "metadata": {},
   "source": [
    "---\n",
    "\n",
    "## 1. Read in data\n",
    "\n",
    "We will now read in the predictions for the battle results obtained from our deep model."
   ]
  },
  {
   "cell_type": "code",
   "execution_count": 6,
   "metadata": {},
   "outputs": [],
   "source": [
    "battle_preds = pd.read_csv('battle_preds.csv')"
   ]
  },
  {
   "cell_type": "code",
   "execution_count": 7,
   "metadata": {},
   "outputs": [
    {
     "data": {
      "text/html": [
       "<div>\n",
       "<style scoped>\n",
       "    .dataframe tbody tr th:only-of-type {\n",
       "        vertical-align: middle;\n",
       "    }\n",
       "\n",
       "    .dataframe tbody tr th {\n",
       "        vertical-align: top;\n",
       "    }\n",
       "\n",
       "    .dataframe thead th {\n",
       "        text-align: right;\n",
       "    }\n",
       "</style>\n",
       "<table border=\"1\" class=\"dataframe\">\n",
       "  <thead>\n",
       "    <tr style=\"text-align: right;\">\n",
       "      <th></th>\n",
       "      <th>Name_1</th>\n",
       "      <th>Level_1</th>\n",
       "      <th>Price_1</th>\n",
       "      <th>HP_1</th>\n",
       "      <th>Attack_1</th>\n",
       "      <th>Defense_1</th>\n",
       "      <th>Sp_Atk_1</th>\n",
       "      <th>Sp_Def_1</th>\n",
       "      <th>Speed_1</th>\n",
       "      <th>Legendary_1</th>\n",
       "      <th>...</th>\n",
       "      <th>res_krabby</th>\n",
       "      <th>res_mewtwo</th>\n",
       "      <th>res_raichu</th>\n",
       "      <th>res_venusaur</th>\n",
       "      <th>hppr_caterpie</th>\n",
       "      <th>hppr_golem</th>\n",
       "      <th>hppr_krabby</th>\n",
       "      <th>hppr_mewtwo</th>\n",
       "      <th>hppr_raichu</th>\n",
       "      <th>hppr_venusaur</th>\n",
       "    </tr>\n",
       "  </thead>\n",
       "  <tbody>\n",
       "    <tr>\n",
       "      <td>0</td>\n",
       "      <td>Abra</td>\n",
       "      <td>4</td>\n",
       "      <td>346</td>\n",
       "      <td>32</td>\n",
       "      <td>22</td>\n",
       "      <td>17</td>\n",
       "      <td>115</td>\n",
       "      <td>61</td>\n",
       "      <td>99</td>\n",
       "      <td>False</td>\n",
       "      <td>...</td>\n",
       "      <td>-179.35338</td>\n",
       "      <td>-684.09970</td>\n",
       "      <td>-222.42577</td>\n",
       "      <td>-173.653670</td>\n",
       "      <td>0.000000</td>\n",
       "      <td>0.0</td>\n",
       "      <td>0.0</td>\n",
       "      <td>0.0</td>\n",
       "      <td>0.0</td>\n",
       "      <td>0.0</td>\n",
       "    </tr>\n",
       "    <tr>\n",
       "      <td>1</td>\n",
       "      <td>Abra</td>\n",
       "      <td>26</td>\n",
       "      <td>614</td>\n",
       "      <td>80</td>\n",
       "      <td>38</td>\n",
       "      <td>26</td>\n",
       "      <td>197</td>\n",
       "      <td>103</td>\n",
       "      <td>170</td>\n",
       "      <td>False</td>\n",
       "      <td>...</td>\n",
       "      <td>-178.42506</td>\n",
       "      <td>-679.82420</td>\n",
       "      <td>-221.97230</td>\n",
       "      <td>-157.285130</td>\n",
       "      <td>0.887533</td>\n",
       "      <td>0.0</td>\n",
       "      <td>0.0</td>\n",
       "      <td>0.0</td>\n",
       "      <td>0.0</td>\n",
       "      <td>0.0</td>\n",
       "    </tr>\n",
       "    <tr>\n",
       "      <td>2</td>\n",
       "      <td>Abra</td>\n",
       "      <td>33</td>\n",
       "      <td>775</td>\n",
       "      <td>102</td>\n",
       "      <td>48</td>\n",
       "      <td>33</td>\n",
       "      <td>247</td>\n",
       "      <td>131</td>\n",
       "      <td>214</td>\n",
       "      <td>False</td>\n",
       "      <td>...</td>\n",
       "      <td>-155.15506</td>\n",
       "      <td>-679.60570</td>\n",
       "      <td>-219.45630</td>\n",
       "      <td>-99.916725</td>\n",
       "      <td>0.925494</td>\n",
       "      <td>0.0</td>\n",
       "      <td>0.0</td>\n",
       "      <td>0.0</td>\n",
       "      <td>0.0</td>\n",
       "      <td>0.0</td>\n",
       "    </tr>\n",
       "    <tr>\n",
       "      <td>3</td>\n",
       "      <td>Abra</td>\n",
       "      <td>45</td>\n",
       "      <td>937</td>\n",
       "      <td>129</td>\n",
       "      <td>56</td>\n",
       "      <td>39</td>\n",
       "      <td>298</td>\n",
       "      <td>158</td>\n",
       "      <td>257</td>\n",
       "      <td>False</td>\n",
       "      <td>...</td>\n",
       "      <td>-148.49413</td>\n",
       "      <td>-681.31476</td>\n",
       "      <td>-217.22935</td>\n",
       "      <td>-52.117302</td>\n",
       "      <td>0.972685</td>\n",
       "      <td>0.0</td>\n",
       "      <td>0.0</td>\n",
       "      <td>0.0</td>\n",
       "      <td>0.0</td>\n",
       "      <td>0.0</td>\n",
       "    </tr>\n",
       "    <tr>\n",
       "      <td>4</td>\n",
       "      <td>Abra</td>\n",
       "      <td>46</td>\n",
       "      <td>963</td>\n",
       "      <td>133</td>\n",
       "      <td>58</td>\n",
       "      <td>40</td>\n",
       "      <td>306</td>\n",
       "      <td>162</td>\n",
       "      <td>264</td>\n",
       "      <td>False</td>\n",
       "      <td>...</td>\n",
       "      <td>-147.37520</td>\n",
       "      <td>-681.24970</td>\n",
       "      <td>-216.34810</td>\n",
       "      <td>-36.872240</td>\n",
       "      <td>0.976467</td>\n",
       "      <td>0.0</td>\n",
       "      <td>0.0</td>\n",
       "      <td>0.0</td>\n",
       "      <td>0.0</td>\n",
       "      <td>0.0</td>\n",
       "    </tr>\n",
       "  </tbody>\n",
       "</table>\n",
       "<p>5 rows × 23 columns</p>\n",
       "</div>"
      ],
      "text/plain": [
       "  Name_1  Level_1  Price_1  HP_1  Attack_1  Defense_1  Sp_Atk_1  Sp_Def_1  \\\n",
       "0   Abra        4      346    32        22         17       115        61   \n",
       "1   Abra       26      614    80        38         26       197       103   \n",
       "2   Abra       33      775   102        48         33       247       131   \n",
       "3   Abra       45      937   129        56         39       298       158   \n",
       "4   Abra       46      963   133        58         40       306       162   \n",
       "\n",
       "   Speed_1  Legendary_1  ...  res_krabby  res_mewtwo  res_raichu  \\\n",
       "0       99        False  ...  -179.35338  -684.09970  -222.42577   \n",
       "1      170        False  ...  -178.42506  -679.82420  -221.97230   \n",
       "2      214        False  ...  -155.15506  -679.60570  -219.45630   \n",
       "3      257        False  ...  -148.49413  -681.31476  -217.22935   \n",
       "4      264        False  ...  -147.37520  -681.24970  -216.34810   \n",
       "\n",
       "   res_venusaur  hppr_caterpie  hppr_golem  hppr_krabby  hppr_mewtwo  \\\n",
       "0   -173.653670       0.000000         0.0          0.0          0.0   \n",
       "1   -157.285130       0.887533         0.0          0.0          0.0   \n",
       "2    -99.916725       0.925494         0.0          0.0          0.0   \n",
       "3    -52.117302       0.972685         0.0          0.0          0.0   \n",
       "4    -36.872240       0.976467         0.0          0.0          0.0   \n",
       "\n",
       "   hppr_raichu  hppr_venusaur  \n",
       "0          0.0            0.0  \n",
       "1          0.0            0.0  \n",
       "2          0.0            0.0  \n",
       "3          0.0            0.0  \n",
       "4          0.0            0.0  \n",
       "\n",
       "[5 rows x 23 columns]"
      ]
     },
     "execution_count": 7,
     "metadata": {},
     "output_type": "execute_result"
    }
   ],
   "source": [
    "battle_preds.head()"
   ]
  },
  {
   "cell_type": "code",
   "execution_count": 8,
   "metadata": {},
   "outputs": [],
   "source": [
    "battle_outcomes = battle_preds[['hppr_caterpie', 'hppr_golem', 'hppr_krabby', 'hppr_mewtwo', 'hppr_raichu', 'hppr_venusaur']]\n",
    "battle_outcomes = np.array(battle_outcomes)\n",
    "\n",
    "num_enemy_pokemon = 6\n",
    "num_available_pokemon = len(battle_outcomes)\n",
    "\n",
    "prices = battle_preds['Price_1']\n",
    "prices = np.array(prices)\n",
    "\n",
    "max_budget = 3500"
   ]
  },
  {
   "cell_type": "code",
   "execution_count": 9,
   "metadata": {},
   "outputs": [
    {
     "data": {
      "text/plain": [
       "array([0.96058102, 0.32479792, 0.33058481, 0.02904102, 0.38795036,\n",
       "       0.55356258])"
      ]
     },
     "execution_count": 9,
     "metadata": {},
     "output_type": "execute_result"
    }
   ],
   "source": [
    "np.mean(battle_outcomes, axis=0)"
   ]
  },
  {
   "cell_type": "markdown",
   "metadata": {},
   "source": [
    "---\n",
    "\n",
    "## 2. Mixed Integer Programming"
   ]
  },
  {
   "cell_type": "markdown",
   "metadata": {},
   "source": [
    "First, we crate the solver that can be used to solve the program."
   ]
  },
  {
   "cell_type": "code",
   "execution_count": 10,
   "metadata": {},
   "outputs": [],
   "source": [
    "# Create the mip solver with the CBC backend.\n",
    "solver = pywraplp.Solver('pokemon_mip_problem',\n",
    "                         pywraplp.Solver.CBC_MIXED_INTEGER_PROGRAMMING)"
   ]
  },
  {
   "cell_type": "markdown",
   "metadata": {},
   "source": [
    "Second we define the variables of our program."
   ]
  },
  {
   "cell_type": "code",
   "execution_count": 11,
   "metadata": {},
   "outputs": [],
   "source": [
    "x = {}\n",
    "\n",
    "for i in range(num_available_pokemon):\n",
    "    for j in range(num_enemy_pokemon):\n",
    "        x[i, j] = solver.BoolVar('x[%i,%i]' % (i, j))\n"
   ]
  },
  {
   "cell_type": "markdown",
   "metadata": {},
   "source": [
    "Third, we define the objective function. To this end we first need to define the rewards matrix, that is the remaining HP% after battling. Those information we get from our prediction model."
   ]
  },
  {
   "cell_type": "code",
   "execution_count": 12,
   "metadata": {},
   "outputs": [],
   "source": [
    "solver.Maximize(solver.Sum([battle_outcomes[i][j] * x[i,j] for i in range(num_available_pokemon)\n",
    "                                                  for j in range(num_enemy_pokemon)]))"
   ]
  },
  {
   "cell_type": "markdown",
   "metadata": {},
   "source": [
    "Fourth, we define the constraints of our problem."
   ]
  },
  {
   "cell_type": "code",
   "execution_count": 13,
   "metadata": {},
   "outputs": [
    {
     "data": {
      "text/plain": [
       "<ortools.linear_solver.pywraplp.Constraint; proxy of <Swig Object of type 'operations_research::MPConstraint *' at 0x7f7a265e5db0> >"
      ]
     },
     "execution_count": 13,
     "metadata": {},
     "output_type": "execute_result"
    }
   ],
   "source": [
    " # Each available pokemon is assigned to at most 1 enemy pokemon.\n",
    "\n",
    "for i in range(num_available_pokemon):\n",
    "    solver.Add(solver.Sum([x[i, j] for j in range(num_enemy_pokemon)]) <= 1)\n",
    "\n",
    "# Each enemy pokemon gets assigned to exactly one available pokemon.\n",
    "\n",
    "for j in range(num_enemy_pokemon):\n",
    "    solver.Add(solver.Sum([x[i, j] for i in range(num_available_pokemon)]) == 1)\n",
    "\n",
    "# The price of the selected pokemon must be at most equal to the budget\n",
    "solver.Add(solver.Sum([x[i, j] * prices[i] for i in range(num_available_pokemon) for j in range(num_enemy_pokemon)]) <= max_budget)"
   ]
  },
  {
   "cell_type": "markdown",
   "metadata": {},
   "source": [
    "We finally invoke the solver."
   ]
  },
  {
   "cell_type": "code",
   "execution_count": 14,
   "metadata": {},
   "outputs": [
    {
     "name": "stdout",
     "output_type": "stream",
     "text": [
      "Total HPPR =  3.1290258842784895\n",
      "\n",
      "Pokemon 200 assigned to enemy 2.  HPPR = 0.000000   Price = 265\n",
      "Pokemon 208 assigned to enemy 4.  HPPR = 0.945848   Price = 1042\n",
      "Pokemon 610 assigned to enemy 3.  HPPR = 0.000000   Price = 205\n",
      "Pokemon 970 assigned to enemy 0.  HPPR = 0.805214   Price = 288\n",
      "Pokemon 1125 assigned to enemy 1.  HPPR = 0.448289   Price = 956\n",
      "Pokemon 1222 assigned to enemy 5.  HPPR = 0.929675   Price = 738\n",
      "\n",
      "Time =  3171  milliseconds\n"
     ]
    }
   ],
   "source": [
    "  sol = solver.Solve()\n",
    "\n",
    "  print('Total HPPR = ', solver.Objective().Value())\n",
    "  print()\n",
    "  for i in range(num_available_pokemon):\n",
    "    for j in range(num_enemy_pokemon):\n",
    "      if x[i, j].solution_value() > 0:\n",
    "        print('Pokemon %d assigned to enemy %d.  HPPR = %f   Price = %d' % (\n",
    "              i,\n",
    "              j,\n",
    "              battle_outcomes[i][j], prices[i]))\n",
    "\n",
    "  print()\n",
    "  print(\"Time = \", solver.WallTime(), \" milliseconds\")"
   ]
  },
  {
   "cell_type": "code",
   "execution_count": null,
   "metadata": {},
   "outputs": [],
   "source": []
  }
 ],
 "metadata": {
  "kernelspec": {
   "display_name": "Python 3",
   "language": "python",
   "name": "python3"
  },
  "language_info": {
   "codemirror_mode": {
    "name": "ipython",
    "version": 3
   },
   "file_extension": ".py",
   "mimetype": "text/x-python",
   "name": "python",
   "nbconvert_exporter": "python",
   "pygments_lexer": "ipython3",
   "version": "3.7.4"
  }
 },
 "nbformat": 4,
 "nbformat_minor": 2
}
